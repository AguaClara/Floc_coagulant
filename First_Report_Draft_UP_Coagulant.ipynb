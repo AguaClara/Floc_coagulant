{
  "nbformat": 4,
  "nbformat_minor": 0,
  "metadata": {
    "colab": {
      "name": "First Report Draft- UP Coagulant",
      "provenance": [],
      "include_colab_link": true
    },
    "kernelspec": {
      "name": "python3",
      "display_name": "Python 3"
    }
  },
  "cells": [
    {
      "cell_type": "markdown",
      "metadata": {
        "id": "view-in-github",
        "colab_type": "text"
      },
      "source": [
        "<a href=\"https://colab.research.google.com/github/AguaClara/Floc_coagulant/blob/master/First_Report_Draft_UP_Coagulant.ipynb\" target=\"_parent\"><img src=\"https://colab.research.google.com/assets/colab-badge.svg\" alt=\"Open In Colab\"/></a>"
      ]
    },
    {
      "cell_type": "markdown",
      "metadata": {
        "id": "yZ78y558OQP8",
        "colab_type": "text"
      },
      "source": [
        "# Team Name, Semester Year\n",
        "#### Authors\n",
        "#### Date\n",
        "\n",
        "## Abstract\n",
        "Briefly summarize your previous work, goals and objectives, what you have accomplished, and future work. (100 words max)\n",
        "\n",
        "## Introduction\n",
        "Explain how the completion of your challenge will affect AguaClara and the mission of providing safe drinking water (or sustainable wastewater treatment!). If this is a continuing team, how will your contribution build upon previous research? What needs to be further discovered or defined? If this is a new team, what prompted the inclusion of this team?\n",
        "\n",
        "## Literature Review and Previous Work\n",
        "Discuss what is already known about your research area based on both external work and that of past AguaClara Teams. Connect your objectives with what is already known and explain what additional contribution you intend to make. Make sure to add APA formatted in-text citations. If you mention the author(s) in your sentence, you can simply give the year of publication.[(Logan et. al. 1987)](http://www.jstor.org/stable/pdf/25043431.pdf?acceptTC=true)"
      ]
    }
  ]
}