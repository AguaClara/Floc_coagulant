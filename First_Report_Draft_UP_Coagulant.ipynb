{
  "nbformat": 4,
  "nbformat_minor": 0,
  "metadata": {
    "colab": {
      "name": "First Report Draft- UP Coagulant",
      "provenance": [],
      "include_colab_link": true
    },
    "kernelspec": {
      "name": "python3",
      "display_name": "Python 3"
    }
  },
  "cells": [
    {
      "cell_type": "markdown",
      "metadata": {
        "id": "view-in-github",
        "colab_type": "text"
      },
      "source": [
        "<a href=\"https://colab.research.google.com/github/AguaClara/Floc_coagulant/blob/master/First_Report_Draft_UP_Coagulant.ipynb\" target=\"_parent\"><img src=\"https://colab.research.google.com/assets/colab-badge.svg\" alt=\"Open In Colab\"/></a>"
      ]
    },
    {
      "cell_type": "markdown",
      "metadata": {
        "id": "yZ78y558OQP8",
        "colab_type": "text"
      },
      "source": [
        "# Unit Processes: Coagulant, Fall 2019\n",
        "#### Ada Lian, Sarah Paquin\n",
        "#### October 4, 2019\n",
        "\n",
        "## Abstract\n",
        "The Fall 2019 Unit Processes Coagulant (UPC) team’s objective is to reduce capital and operating costs and improve particle removal efficiency for the AguaClara water treatment process, specifically by analyzing the response of the system to varying coagulant dosage. To analyze the system response, we will run a series of trials on a treatment plant model, varying the coagulant dosage and recording observations regarding the effluent turbidity, floc formation, and floc blanket formation. Through this experiment, the team will be able to establish a minimum coagulant dosage, which could lower operating costs, and to learn valuable information about the interactions between coagulant and the primary particles of the influent water at high coagulant dosages.\n",
        "\n",
        "\n",
        "## Introduction\n",
        "AguaClara’s mission is to develop technologies that enable communities to have access to safe drinking water and sustainable wastewater treatment at a low cost and with minimal maintenance. An important component of AguaClara’s water treatment process is the addition of coagulant to the water. Coagulant is added to dirty water to create flocs, which are essentially clumps of primary particles, such as clays and bacteria, which ultimately separate from the water via gravity. Coagulant works by sticking to the particles, and as the particles move around, more and more particles become stuck together via the coagulant. A higher coagulant dosage than necessary can quickly increase operating costs, while not necessarily significantly improving floc formation and the ultimate purity of the water. Additionally, the interaction between coagulant and the primary particles is not completely understood, which could potentially cause problems when trying to modify the water treatment process in the future, thus affecting AguaClara’s ability to develop low cost and high performance technologies.\n",
        "\n",
        "\n",
        "One of the UPC team’s main goals is to determine a minimum necessary coagulant dosage, which would reduce operating costs and lessen the financial burden of the communities that AguaClara’s water treatment plants serve. The other main goal of the UPC team, to learn more about the interaction between the coagulant and primary particles of the influent water at high coagulant dosages, may be useful for future design projects, and may facilitate the development of high performance, low cost, and minimal maintenance systems. To accomplish these goals, we will run ten trials varying the coagulant by a factor of 2 and observe the effluent turbidity, looking for a target turbidity of 3 NTU, and the formation of flocs and the floc blanket. It is hypothesized that coagulant nanoparticles are more likely to stick to each other than to primary particles, so if the coagulant dosage is so high that the primary particles are covered in coagulant over more than half their surface areas, particle collisions are less likely to result in particles sticking together, as the nature of the hypothesized coagulant-coagulant interaction could cause coagulant to break off from one particle and stick to another particle’s coagulant, allowing the particles to separate, unattached. If this hypothesis is accurate, we would expect to see minimal floc formation at high dosages of coagulant. We expect that the results and insight gained from our experiment could positively impact AguaClara’s ability to develop high performance, efficient, and low cost water treatment technology and processes.\n",
        "\n",
        "\n",
        "## Literature Review and Previous Work\n",
        "\n",
        "Untreated water contains inorganic and organic particles that pose health risks and are difficult to remove. Therefore, coagulation and flocculation are important steps of the water treatment process because they make the removal of these particles easier. AguaClara plants use polyaluminium chloride (PACl), which is a coagulant that precipitates in water to create sticky nanoparticles [(Gebbie, 2006)](http://wioa.org.au/conference_papers/06_qld/documents/PeterGebbie.pdf). The fluid deformation caused by the flocculator allows the particles and coagulant to mix and collide, this creates flocs. Flocs are particle aggregations that are larger and heavier and are therefore easier to settle to at the bottom of the sedimentation tank to create a floc blanket [(Weber-Shirk et al., 2018)](https://aguaclara.github.io/Textbook/Flocculation/Floc_Intro.html). Floc blankets are a fluidized bed of solids that allows for even more collisions between particles in the blanket and the flocs from the flocculator. It is important for the floc blanket to be stable and uniformed in order to efficiently remove as many particles from the water before it flows through the filtration system [(Conneely & Sen, 2018)](https://github.com/AguaClara/HRS-Flow-Recycle/blob/master/HRS-Flow-Recycle-Final-Report.md). \n",
        "\n",
        "Previous teams have researched different variables to optimize the performance of the floc blanket. For example, the High Rate Sedimentation: Flow Recycle team noticed that the floc blanket is denser at the top of the tank due to higher upflow velocities of water. They hypothesized that fabricating a recycle line on the tank would improve the longevity of the floc blanket and make the blanket more stable [(Conneely & Sen, 2018)](https://github.com/AguaClara/HRS-Flow-Recycle/blob/master/HRS-Flow-Recycle-Final-Report.md). Similarly, the High Rate Sedimentation: Bottom Geometry team observed that the regular flat bottom shape of the tank causes floc gelling, where a dense layer of flocs is formed that cannot be broken up. The team therefore designed different inserts that prevent flocs from stacking on top of each other [(Benitez & Lee, 2019)](https://github.com/AguaClara/HRS-Bot-Geo/blob/master/2019%20Spring/Reports/HRSBotGeo2FinalReportDraft.md). \n",
        "\n",
        "William H. Pennock conducted similar research to the UPC team, which varies the coagulant dosages. Pennock ranged the coagulant dosage from 0.05 to 98 mg/L as Al. The data reveals that at a certain point of the experiment the performance of the floc blanket decreases, as shown by the increase in effluent turbidity as the coagulant dosage passes a certain point [(Pennock et al., 2018)](https://www.researchgate.net/publication/326076774_A_Hydrodynamic_and_Surface_Coverage_Model_Capable_of_Predicting_Settled_Effluent_Turbidity_Subsequent_to_Hydraulic_Flocculation). \n",
        "\n",
        "![Graph](https://raw.githubusercontent.com/AguaClara/Floc_coagulant/master/Coagulant-Turbidity%20Graph%20-%20Pennock.png) \n",
        "Figure 1: Coagulant dose effect on effluent turbidity [(Pennock et al., 2018)](https://www.researchgate.net/publication/326076774_A_Hydrodynamic_and_Surface_Coverage_Model_Capable_of_Predicting_Settled_Effluent_Turbidity_Subsequent_to_Hydraulic_Flocculation). \n",
        "\n",
        "This is because although it might seem like more coagulant will allow bigger and more flocs, it is hypothesized that with too much coagulant nanoparticles, the nanoparticles are more prone to attach to each other rather than to the inorganic and organic particles. The UPC team will determine the range of coagulant dosages that would minimize the effluent turbidity while preventing floc blanket decay and coagulant wastage. \n"
      ]
    }
  ]
}